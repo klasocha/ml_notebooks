{
 "cells": [
  {
   "cell_type": "code",
   "execution_count": 1,
   "metadata": {
    "collapsed": false
   },
   "outputs": [
    {
     "name": "stderr",
     "output_type": "stream",
     "text": [
      "/home/kacper/anaconda3/lib/python3.5/site-packages/sklearn/cross_validation.py:44: DeprecationWarning: This module was deprecated in version 0.18 in favor of the model_selection module into which all the refactored classes and functions are moved. Also note that the interface of the new CV iterators are different from that of this module. This module will be removed in 0.20.\n",
      "  \"This module will be removed in 0.20.\", DeprecationWarning)\n",
      "/home/kacper/anaconda3/lib/python3.5/site-packages/sklearn/grid_search.py:43: DeprecationWarning: This module was deprecated in version 0.18 in favor of the model_selection module into which all the refactored classes and functions are moved. This module will be removed in 0.20.\n",
      "  DeprecationWarning)\n",
      "/home/kacper/anaconda3/lib/python3.5/site-packages/sklearn/learning_curve.py:23: DeprecationWarning: This module was deprecated in version 0.18 in favor of the model_selection module into which all the functions are moved. This module will be removed in 0.20\n",
      "  DeprecationWarning)\n"
     ]
    }
   ],
   "source": [
    "%matplotlib inline\n",
    "import matplotlib.pyplot as plt\n",
    "import csv\n",
    "import pandas\n",
    "import sklearn\n",
    "import pandas as pd\n",
    "import _pickle as cPickle\n",
    "import numpy as np\n",
    "from sklearn.feature_extraction.text import CountVectorizer, TfidfTransformer\n",
    "from sklearn.naive_bayes import MultinomialNB\n",
    "from sklearn.svm import SVC, LinearSVC\n",
    "from sklearn.metrics import classification_report, f1_score, accuracy_score, confusion_matrix\n",
    "from sklearn.pipeline import Pipeline\n",
    "from sklearn.grid_search import GridSearchCV\n",
    "from sklearn.cross_validation import StratifiedKFold, cross_val_score, train_test_split \n",
    "from sklearn.tree import DecisionTreeClassifier \n",
    "from sklearn.learning_curve import learning_curve\n",
    "import matplotlib.pylab as plt\n",
    "import numpy as np\n",
    "import pandas as pd\n",
    "import matplotlib.pyplot as plt\n",
    "%matplotlib inline\n",
    "from sklearn.pipeline import Pipeline\n",
    "from sklearn.svm import SVC\n",
    "from sklearn.preprocessing import StandardScaler\n",
    "from sklearn.cross_validation import train_test_split\n",
    "from sklearn.decomposition import PCA\n",
    "from sklearn.cross_validation import cross_val_score\n",
    "from sklearn.grid_search import GridSearchCV\n",
    "import seaborn as sns\n",
    "from sklearn.metrics import precision_score, recall_score\n",
    "from sklearn.linear_model import LogisticRegression \n",
    "from sklearn import metrics\n",
    "from sklearn.naive_bayes import GaussianNB"
   ]
  },
  {
   "cell_type": "code",
   "execution_count": 2,
   "metadata": {
    "collapsed": false
   },
   "outputs": [],
   "source": [
    "data = pd.read_csv(\"data/L7/breast_cancer_transformer.csv\")\n",
    "data.drop(\"Unnamed: 32\",axis=1,inplace=True)\n",
    "data['diagnosis']=data['diagnosis'].map({'M':1,'B':0})"
   ]
  },
  {
   "cell_type": "code",
   "execution_count": 3,
   "metadata": {
    "collapsed": false
   },
   "outputs": [],
   "source": [
    "# Wybieramy cechy\n",
    "prediction_var = ['texture_mean','perimeter_mean','smoothness_mean','compactness_mean','symmetry_mean']\n",
    "train, test = train_test_split(data, test_size = 0.3)# in this our main data is splitted into train and test\n",
    "train_X = train[prediction_var][0:100]\n",
    "train_y=train.diagnosis[0:100]\n",
    "test_X= test[prediction_var] \n",
    "test_y =test.diagnosis  "
   ]
  },
  {
   "cell_type": "code",
   "execution_count": 4,
   "metadata": {
    "collapsed": false
   },
   "outputs": [
    {
     "name": "stdout",
     "output_type": "stream",
     "text": [
      "0.912280701754\n",
      "0.828571428571\n",
      "0.950819672131\n",
      "0.195457234021\n"
     ]
    }
   ],
   "source": [
    "# Regresja logistyczna\n",
    "model = LogisticRegression(C=50)\n",
    "model.fit(train_X,train_y)\n",
    "pred = model.predict(test_X)\n",
    "print( metrics.accuracy_score(pred, test_y))\n",
    "print (metrics.precision_score(pred, test_y))\n",
    "print (metrics.recall_score(pred, test_y))\n",
    "print (metrics.log_loss(test_y, model.predict_proba(test_X)[:, 1]))"
   ]
  },
  {
   "cell_type": "markdown",
   "metadata": {},
   "source": [
    "## Zadanie 1 [3 pkt]\n",
    "\n",
    "1. Powyższy model ma istotnie wyższy recall niż precision. \n",
    "\n",
    "Zdefiniujmy jako model probabilistyczny model, który zwraca p($\\hat{y}$ | y). Obiekt LogisticRegression zwraca tą wartość funkcją ``predict_proba``\n",
    "\n",
    "1. Każdy model probabilistyczny można użyć do stworzenia klasyfikora, która może mieć precision 100% lub recall 100% trywialnie, jak? \n",
    "\n",
    "2. Krzywa precision/recall jest obliczana licząc precision oraz recall modelu probabilistycznego dla różnych wartości precision. Zarysuj wykres precision/recall dla modelu powyżej.\n",
    "\n",
    "Powinno wyjść:\n",
    "\n",
    "<img src=\"figures/L7/prec_recall.png\">"
   ]
  },
  {
   "cell_type": "markdown",
   "metadata": {
    "collapsed": true
   },
   "source": [
    "1. Precision 100% można uzyskać poprzez model, który zawsze klasyfikuje obiekt jako fałsz. Podobnie Recall 100% dostajemy klasyfikując zawsze jako prawda."
   ]
  },
  {
   "cell_type": "code",
   "execution_count": 5,
   "metadata": {
    "collapsed": false
   },
   "outputs": [
    {
     "data": {
      "text/plain": [
       "<matplotlib.text.Text at 0x7f2cfc0b5b38>"
      ]
     },
     "execution_count": 5,
     "metadata": {},
     "output_type": "execute_result"
    },
    {
     "data": {
      "image/png": "[encoded data removed]",
      "text/plain": [
       "<matplotlib.figure.Figure at 0x7f2cfc091748>"
      ]
     },
     "metadata": {},
     "output_type": "display_data"
    }
   ],
   "source": [
    "probs = model.predict_proba(test_X).T[0]\n",
    "indices = np.argsort(probs)\n",
    "ordered_classes = [test_y.values[i] for i in indices]\n",
    "ordered_classes_cumsum = np.cumsum(ordered_classes)\n",
    "prec = [ordered_classes_cumsum[i]/(i+1) for i in range(len(test_X))]\n",
    "recall = [ordered_classes_cumsum[i]/ordered_classes_cumsum[-1] for i in range(len(test_X))]\n",
    "\n",
    "    \n",
    "plt.plot(recall, prec)\n",
    "plt.xlabel('recall')\n",
    "plt.ylabel('precision')\n"
   ]
  },
  {
   "cell_type": "markdown",
   "metadata": {},
   "source": [
    "## Zadanie 2 [3 pkt]\n",
    "\n",
    "Założmy, że $C_{FP}$ = 1 i $C_{FN}$ = 10, co odpowiada sytuacji w której nie przejmujemy się postawieniem fałszywej pozytywnej diagnozy.\n",
    "\n",
    "Według http://web.cs.iastate.edu/~honavar/elkan.pdf wystarczy w takim wypadku dodać przykładom odpowiednią wage.\n",
    "\n",
    "a) Przetestuj pare wag klasy negatywnej przez podanie argumentu class_weight do LogisticRegression. Dla każdej wartości wagi narysuj dokładność (accuracy) oraz wynik metryki FN_aversive. Powinno wyjść:\n",
    "\n",
    "<img src=\"figures/L7/fn_aversive.png\">\n",
    "\n",
    "b) Równoważnym sposobem tworzenia \"cost-sensitive\" klasyfikatora z modelu probabilistycznego jest zmiana progu (patrz Zadanie 1). Znajdź taki próg, aby wynik klasyfikatora z tym progiem był równoważny argumentowi class_weight, który daje w punkcie a) najlepszy wynik.\n",
    "\n",
    "Podpowiedź: Jeśli 2 sprawia problem, przejrzyj załączoną publikację"
   ]
  },
  {
   "cell_type": "code",
   "execution_count": 6,
   "metadata": {
    "collapsed": true
   },
   "outputs": [],
   "source": [
    "def FN_aversive(y_true, y_pred):\n",
    "    FN = sum((y_true == 1) * (y_pred != y_true))\n",
    "    FP = sum((y_true == 0) * (y_pred != y_true))\n",
    "    return 10 * FN + FP"
   ]
  },
  {
   "cell_type": "code",
   "execution_count": 7,
   "metadata": {
    "collapsed": false
   },
   "outputs": [
    {
     "name": "stderr",
     "output_type": "stream",
     "text": [
      "/home/kacper/anaconda3/lib/python3.5/site-packages/pandas/computation/expressions.py:181: UserWarning: evaluating in Python space because the '*' operator is not supported by numexpr for the bool dtype, use '&' instead\n",
      "  unsupported[op_str]))\n"
     ]
    },
    {
     "data": {
      "text/plain": [
       "<matplotlib.legend.Legend at 0x7f2cfbfe66d8>"
      ]
     },
     "execution_count": 7,
     "metadata": {},
     "output_type": "execute_result"
    },
    {
     "data": {
      "image/png": "[encoded data removed]",
      "text/plain": [
       "<matplotlib.figure.Figure at 0x7f2cfc03c9e8>"
      ]
     },
     "metadata": {},
     "output_type": "display_data"
    }
   ],
   "source": [
    "acc = []\n",
    "fn = []\n",
    "\n",
    "for i in range(1,100):\n",
    "    model = LogisticRegression(C = 50, class_weight = {0: 1, 1: i})\n",
    "    model.fit(train_X,train_y)\n",
    "    pred = model.predict(test_X)\n",
    "    acc.append(metrics.accuracy_score(pred, test_y)*100)\n",
    "    fn.append(FN_aversive(test_y, pred))\n",
    "\n",
    "\n",
    "plt.plot(range(1,100), fn, label= \"FN_aversive\")\n",
    "plt.plot(range(1,100), acc, label= \"accuracy (%)\")\n",
    "plt.legend()"
   ]
  },
  {
   "cell_type": "code",
   "execution_count": 8,
   "metadata": {
    "collapsed": false
   },
   "outputs": [
    {
     "name": "stdout",
     "output_type": "stream",
     "text": [
      "znaleziony prog wynosi: 0.4000761621012321\n"
     ]
    }
   ],
   "source": [
    "s_acc = acc[np.argmin(fn)]/100\n",
    "\n",
    "index = 0\n",
    "dist = 1\n",
    "for i, acc_element in enumerate(prec):\n",
    "    if abs(acc_element-s_acc) < dist:\n",
    "        dist = acc_element-s_acc\n",
    "        index = i\n",
    "\n",
    "prog = np.sort(probs)[index]\n",
    "print(\"znaleziony prog wynosi: {0}\".format(prog))"
   ]
  },
  {
   "cell_type": "markdown",
   "metadata": {},
   "source": [
    "## Zadanie 3 [3 pkt]\n",
    "\n",
    "Naive Bayes jest często stosowany do problemów klasyfikacyjnych na tekście. W tym zadaniu zajmiemy się klasyfikacją SPAMU. Na wejściu zadany jest test wiadomości e-mail, etykietą jest 0 (prawdziwa wiadomość, \"HAM\") lub 1 (SPAM). \n",
    "\n",
    "Podstawowym problemem jest sposób reprezentacji tekstu. Podobnie jak w przypadku rozważanych funkcji bazowych na wcześniejszych zajęciach, modele wymagają stałowymiarowego wektoru. Proszę użyć klasy CountVectorizer z sklearn w celu przekształcenia wiadomości do reprezentacji wektorowej.\n",
    "\n",
    "1. Zastosuj transformację tekstu do reprezentacji bag of words\n",
    "2. Naucz model Naive Bayes (MultinomialNB) przewidywać SPAM\n",
    "3. Pokaż problem \"double counting\" w modelu Naive Bayes. "
   ]
  },
  {
   "cell_type": "markdown",
   "metadata": {},
   "source": [
    "### Załadowanie danych"
   ]
  },
  {
   "cell_type": "code",
   "execution_count": 9,
   "metadata": {
    "collapsed": false
   },
   "outputs": [],
   "source": [
    "messages = pd.read_csv('data/L7/smsspamcollection/SMSSpamCollection', sep='\\t', quoting=csv.QUOTE_NONE,\n",
    "                           names=[\"label\", \"message\"])"
   ]
  },
  {
   "cell_type": "code",
   "execution_count": 10,
   "metadata": {
    "collapsed": false
   },
   "outputs": [],
   "source": [
    "messages['length'] = messages['message'].map(lambda text: len(text))"
   ]
  },
  {
   "cell_type": "markdown",
   "metadata": {},
   "source": [
    "## Przetworzenie danych"
   ]
  },
  {
   "cell_type": "code",
   "execution_count": 11,
   "metadata": {
    "collapsed": false
   },
   "outputs": [
    {
     "name": "stdout",
     "output_type": "stream",
     "text": [
      "sparse matrix shape: (5574, 8713)\n",
      "number of non-zeros: 74169\n",
      "sparsity: 0.15%\n"
     ]
    }
   ],
   "source": [
    "messages_bow = np.mat(CountVectorizer().fit_transform(messages['message']).toarray())\n",
    "print ('sparse matrix shape:', messages_bow.shape)\n",
    "print ('number of non-zeros:', len(messages_bow.nonzero()[0]))\n",
    "print ('sparsity: %.2f%%' % (100.0 * len(messages_bow.nonzero()[0]) / (messages_bow.shape[0] * messages_bow.shape[1])))"
   ]
  },
  {
   "cell_type": "code",
   "execution_count": 12,
   "metadata": {
    "collapsed": false
   },
   "outputs": [],
   "source": [
    "data = [[np.array(messages_bow[i])[0], messages['label'][i]] for i in range(len(messages))]"
   ]
  },
  {
   "cell_type": "code",
   "execution_count": 13,
   "metadata": {
    "collapsed": false
   },
   "outputs": [],
   "source": [
    "train, test = train_test_split(data, test_size = 0.3)# in this our main data is splitted into train and test\n",
    "train_X = list(np.transpose(train)[0])\n",
    "train_y = list(np.transpose(train)[1])\n",
    "test_X = list(np.transpose(test)[0])\n",
    "test_y = list(np.transpose(test)[1])"
   ]
  },
  {
   "cell_type": "code",
   "execution_count": 14,
   "metadata": {
    "collapsed": false
   },
   "outputs": [],
   "source": [
    "spam_detector = MultinomialNB()\n",
    "spam_detector.fit(list(train_X), train_y)\n",
    "\n",
    "pred = spam_detector.predict(test_X)"
   ]
  },
  {
   "cell_type": "code",
   "execution_count": 15,
   "metadata": {
    "collapsed": false
   },
   "outputs": [],
   "source": [
    "TP = sum(pred[i] == test_y[i] == 'spam' for i in range(len(pred)))\n",
    "FP = sum((pred[i] != test_y[i] and pred[i] == 'spam') for i in range(len(pred)))\n",
    "TN = sum(pred[i] == test_y[i] == 'ham' for i in range(len(pred)))\n",
    "FN = sum((pred[i] != test_y[i] and pred[i] == 'ham') for i in range(len(pred)))"
   ]
  },
  {
   "cell_type": "code",
   "execution_count": 16,
   "metadata": {
    "collapsed": false
   },
   "outputs": [
    {
     "name": "stdout",
     "output_type": "stream",
     "text": [
      "accuracy: 0.9856545128511656\n",
      "\n",
      "\n",
      "confusion matrix:\n",
      "\n",
      "TP: 198\n",
      "FP: 11\n",
      "TN: 1451\n",
      "FN: 13\n"
     ]
    }
   ],
   "source": [
    "\n",
    "print( 'accuracy: {0}'.format(metrics.accuracy_score(pred, test_y)))\n",
    "print('\\n\\nconfusion matrix:\\n')\n",
    "print(\"TP: {0}\".format(TP))\n",
    "print(\"FP: {0}\".format(FP))\n",
    "print(\"TN: {0}\".format(TN))\n",
    "print(\"FN: {0}\".format(FN))"
   ]
  },
  {
   "cell_type": "markdown",
   "metadata": {},
   "source": [
    "c) Niech dany będzie problem klasyfikacji z dwoma klasami $(T,F)$ na podstawie dwóch niezależnych binarnych cech $X_{1}, X_{2}$.\n",
    "Niech będzie teraz dane, że:\n",
    "\n",
    "$P(Y=T) = 0.5$\n",
    "\n",
    "$P(X_{1} = T | Y=T) = 0.8$\n",
    "\n",
    "$P(X_{1} = F | Y=F) = 0.7$\n",
    "\n",
    "$P(X_{2} = T | Y=T) = 0.5$\n",
    "\n",
    "$P(X_{2} = F | Y=F) = 0.9$\n",
    "\n",
    "Model Naive Bayes będzie przypisywał parę $(x_{1},x_{2})$ do klasy $T$ jeśli będzie zachodzić: \n",
    "\n",
    "$$ \\log  \\dfrac{P(Y=T)}{P(Y=F)} + \\log \\dfrac{P(X_{1} = x_{1} | Y=T)}{P(X_{1} = x_{1} | Y=F)} + \\log \\dfrac{P(X_{2} = x_{2} | Y=T)}{P(X_{2} = x_{2} | Y=F)} > 0$$\n",
    "\n",
    "W przeciwnym wypadku model sklasyfikuje obiekt jako F.\n",
    "\n",
    "\n",
    "\n",
    "\n",
    "\n",
    "\n"
   ]
  },
  {
   "cell_type": "code",
   "execution_count": 17,
   "metadata": {
    "collapsed": false
   },
   "outputs": [
    {
     "name": "stdout",
     "output_type": "stream",
     "text": [
      "2.59026716545\n",
      "0.39304258811\n",
      "0.356674943939\n",
      "-1.8405496334\n"
     ]
    }
   ],
   "source": [
    "#(T,T)\n",
    "print(np.log(0.8/0.3) + np.log(0.5/0.1))\n",
    "##(T,F)\n",
    "print(np.log(0.8/0.3) + np.log(0.5/0.9))\n",
    "##(F,T)\n",
    "print(np.log(0.2/0.7) + np.log(0.5/0.1))\n",
    "##(F,F)\n",
    "print(np.log(0.2/0.7) + np.log(0.5/0.9))"
   ]
  },
  {
   "cell_type": "markdown",
   "metadata": {},
   "source": [
    "Łatwo więc policzyć (powyżej), że będziemy mieli następujące predykcje: \n",
    "\n",
    "$ \\hat{Y}(T,T) = T$\n",
    "\n",
    "$ \\hat{Y}(T,F) = T$\n",
    "\n",
    "$ \\hat{Y}(F,T) = T$\n",
    "\n",
    "$ \\hat{Y}(F,F) = F$\n",
    "\n",
    "Policzmy więc jak często średnio nasz model się myli. Pamiętając, że z niezależności $X_{1}$ i $X_{2}$ mamy: $$P(X_{1},X_{2},Y) = P(X_{1}|Y) \\cdot P(X_{2}|Y) \\cdot P(Y),$$\n",
    "będzie to więc:\n",
    "$$Err_{rate} = P(X_{1} = T, X_{2} = T, Y=F) + P(X_{1} = T, X_{2} = F, Y=F) + P(X_{1} = F, X_{2} = T, Y=F) + P(X_{1} = F, X_{2} = F, Y=T) = \\\\ = 0.5 \\cdot 0.3 \\cdot 0.1 + 0.5 \\cdot 0.3 \\cdot 0.9 + 0.5 \\cdot 0.7 \\cdot 0.1 + 0.5 \\cdot 0.2 \\cdot 0.5 = 0.235$$"
   ]
  },
  {
   "cell_type": "markdown",
   "metadata": {},
   "source": [
    "\n",
    "Dołóżmy teraz trzecią cechę $X_{3}$ będącą kopią cechy $X_{2}$ - są one więc w pełni zależne od siebie. Model Naive Bayes jednak tego nie widzi, stąd decyzję o klasyfikacji będzie podejmował na podstawie warunku:\n",
    "\n",
    "$$ \\log  \\dfrac{P(Y=T)}{P(Y=F)} + \\log \\dfrac{P(X_{1} = x_{1} | Y=T)}{P(X_{1} = x_{1} | Y=F)} + \\log \\dfrac{P(X_{2} = x_{2} | Y=T)}{P(X_{2} = x_{2} | Y=F)} + \\log \\dfrac{P(X_{3} = x_{3} | Y=T)}{P(X_{3} = x_{3} | Y=F)} > 0$$\n",
    "\n"
   ]
  },
  {
   "cell_type": "code",
   "execution_count": 18,
   "metadata": {
    "collapsed": false
   },
   "outputs": [
    {
     "name": "stdout",
     "output_type": "stream",
     "text": [
      "4.19970507788\n",
      "-0.194744076793\n",
      "1.96611285637\n",
      "-2.4283362983\n"
     ]
    }
   ],
   "source": [
    "#(T,T)\n",
    "print(np.log(0.8/0.3) + np.log(0.5/0.1) + np.log(0.5/0.1))\n",
    "##(T,F)\n",
    "print(np.log(0.8/0.3) + np.log(0.5/0.9)+ np.log(0.5/0.9))\n",
    "##(F,T)\n",
    "print(np.log(0.2/0.7) + np.log(0.5/0.1) + np.log(0.5/0.1))\n",
    "##(F,F)\n",
    "print(np.log(0.2/0.7) + np.log(0.5/0.9) + np.log(0.5/0.9))"
   ]
  },
  {
   "cell_type": "markdown",
   "metadata": {},
   "source": [
    "W konsekwencji predykcje ulegną zmianie na (powyżej, zmienna $X_{3}$ została pominięta w zapisie, jest równa $X_{2})$:\n",
    "\n",
    "$ \\hat{Y}(T,T) = T$\n",
    "\n",
    "$ \\hat{Y}(T,F) = F$\n",
    "\n",
    "$ \\hat{Y}(F,T) = T$\n",
    "\n",
    "$ \\hat{Y}(F,F) = F$\n",
    "\n",
    "Po uaktalnieniu policzmy ponownie częstość popełniania błędu przez nasz model:\n",
    "\n",
    "$$Err_{rate} = P(X_{1} = T, X_{2} = T, Y=F) + P(X_{1} = T, X_{2} = F, Y=T) + P(X_{1} = F, X_{2} = T, Y=F) + P(X_{1} = F, X_{2} = F, Y=T) = \\\\ = 0.5 \\cdot 0.3 \\cdot 0.1 + 0.5 \\cdot 0.8 \\cdot 0.5 + 0.5 \\cdot 0.7 \\cdot 0.1 + 0.5 \\cdot 0.2 \\cdot 0.5 = 0.3$$\n",
    "\n",
    "Czyli mylimy się częściej. \n",
    "\n",
    "Zaprezentowałem problem \"Double Counting\" w pewnym sensie w odwrotnym kierunku. W rzeczywistości chodzi o to, że gdybyśmy zaczęli od drugiej sytuacji i zauważyli, że zmienne $X_{2}$ i $X_{3}$ są skorelowane, moglibyśmy zmniejszyć częstotliwość popełnienia błędu."
   ]
  }
 ],
 "metadata": {
  "anaconda-cloud": {},
  "kernelspec": {
   "display_name": "Python [conda root]",
   "language": "python",
   "name": "conda-root-py"
  },
  "language_info": {
   "codemirror_mode": {
    "name": "ipython",
    "version": 3
   },
   "file_extension": ".py",
   "mimetype": "text/x-python",
   "name": "python",
   "nbconvert_exporter": "python",
   "pygments_lexer": "ipython3",
   "version": "3.5.2"
  },
  "toc": {
   "toc_cell": false,
   "toc_number_sections": true,
   "toc_threshold": 6,
   "toc_window_display": false
  }
 },
 "nbformat": 4,
 "nbformat_minor": 0
}
