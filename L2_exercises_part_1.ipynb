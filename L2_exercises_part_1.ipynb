{
 "cells": [
  {
   "cell_type": "markdown",
   "metadata": {},
   "source": [
    "## Ćwiczenie 1 (0,5 pkt)\n",
    "\n",
    "Narysować wykres funkcji $L(\\theta)$ dla $\\theta\\in[0,1]$. Zobaczyć, że maksimum jest w punkcie $\\frac{7}{10}$."
   ]
  },
  {
   "cell_type": "code",
   "execution_count": 1,
   "metadata": {
    "collapsed": false
   },
   "outputs": [
    {
     "data": {
      "text/plain": [
       "[<matplotlib.lines.Line2D at 0x7f7c5fe629b0>]"
      ]
     },
     "execution_count": 1,
     "metadata": {},
     "output_type": "execute_result"
    },
    {
     "data": {
      "image/png": "[encoded data removed]",
      "text/plain": [
       "<matplotlib.figure.Figure at 0x7f7c84459f28>"
      ]
     },
     "metadata": {},
     "output_type": "display_data"
    }
   ],
   "source": [
    "import numpy as np\n",
    "import matplotlib.pylab as plt\n",
    "%matplotlib inline \n",
    "\n",
    "def L(theta):\n",
    "    return theta**7 * (1-theta)**3\n",
    "\n",
    "theta_grid = np.linspace(0,1,100)\n",
    "L_values = L(theta_grid)\n",
    "plt.plot(theta_grid, L_values)"
   ]
  },
  {
   "cell_type": "markdown",
   "metadata": {},
   "source": [
    "## Ćwiczenie 2 (0,5 pkt)\n",
    "\n",
    "Symulator \"prawdziwej\" monety.\n",
    "\n",
    "Napisać funkcję flip_coin, która generuje wynik nb_flips rzutów monetą z prawdopodobieństwem wypadnięcia orła równym theta. Funkcja ma zwrócić tablicę zer i jedynek ($0$ - RESZKA, $1$ - ORZEŁ).\n"
   ]
  },
  {
   "cell_type": "code",
   "execution_count": 2,
   "metadata": {
    "collapsed": false
   },
   "outputs": [
    {
     "data": {
      "text/plain": [
       "723"
      ]
     },
     "execution_count": 2,
     "metadata": {},
     "output_type": "execute_result"
    }
   ],
   "source": [
    "def flip_coin(theta, nb_flips):\n",
    "    result = np.random.binomial(1, theta, nb_flips)\n",
    "    \n",
    "    assert len(result) == nb_flips\n",
    "    return result\n",
    "\n",
    "result = flip_coin(0.7, 1000)\n",
    "sum(result)"
   ]
  },
  {
   "cell_type": "markdown",
   "metadata": {},
   "source": [
    "## Ćwiczenie 3 (1 pkt)\n",
    "\n",
    "Pierwszy model generatywny rzutu monetą.\n",
    "\n",
    "Napisać klasę CoinML (Maximum Likelihood) posiadającą metody fit i toss:\n",
    "- fit - przyjmuje listę obserwacji i oblicza self.theta korzystając z wzoru powyżej.\n",
    "- toss - generuje jeden rzut monetą z prawdopodobieństwem self.theta i zwraca 0 lub 1."
   ]
  },
  {
   "cell_type": "code",
   "execution_count": 3,
   "metadata": {
    "collapsed": false
   },
   "outputs": [
    {
     "data": {
      "text/plain": [
       "1"
      ]
     },
     "execution_count": 3,
     "metadata": {},
     "output_type": "execute_result"
    }
   ],
   "source": [
    "class CoinML(object):\n",
    "\n",
    "    def __init__(self):\n",
    "        self.theta = None\n",
    "\n",
    "    def fit(self, X):\n",
    "        self.theta = sum(X) / len(X)\n",
    "\n",
    "    def toss(self):\n",
    "        return flip_coin(self.theta, 1)[0]\n",
    "    \n",
    "    \n",
    "coin = CoinML()\n",
    "result = flip_coin(0.7, 1000)\n",
    "\n",
    "coin.fit(result)\n",
    "\n",
    "coin.toss()"
   ]
  },
  {
   "cell_type": "markdown",
   "metadata": {},
   "source": [
    "## Ćwiczenie 4 (1 pkt)\n",
    "\n",
    "Napisać klasę CoinMAP (Maximum A Posteriori) posiadającą metody fit i toss:\n",
    "- konstruktor - przyjmuje prior, który może np. być słownikiem (klucz - $\\theta$, wartość - jej prawdopodobieństwo a priori),\n",
    "- fit - przyjmuje listę obserwacji i uaktualnia self.knowledge, korzystając ze wzoru Bayesa, a następnie ustawia self.theta wybierając odpowiednią wartość z self.knowledge,\n",
    "- toss - generuje jeden rzut monetą z prawdopodobieństwem self.theta i zwraca 0 lub 1."
   ]
  },
  {
   "cell_type": "code",
   "execution_count": 4,
   "metadata": {
    "collapsed": false
   },
   "outputs": [
    {
     "name": "stdout",
     "output_type": "stream",
     "text": [
      "model.knowledge powinno wyjść {0.5: 0.686, 0.6: 0.314}\n",
      "{0.5: 0.68556676315468579, 0.6: 0.31443323684531421}\n",
      "Powinno wyjść 0.5: 0.5\n",
      "Powinno wyjść 1: 1.0\n",
      "model.knowledge powinno wyjść {0.5: 0.362, 0.6: 0.265, 0.8: 0.373}\n",
      "{0.5: 0.36171237227008995, 0.6: 0.26543735345984282, 0.8: 0.37285027427006717}\n",
      "Powinno wyjść 0.8: 0.8\n",
      "Powinno wyjść 1: 1.0\n"
     ]
    }
   ],
   "source": [
    "class CoinMAP(object):\n",
    "\n",
    "    def __init__(self, prior):\n",
    "        self.knowledge = prior\n",
    "        self.theta = 0\n",
    "        \n",
    "        max_probability = 0\n",
    "        for key in prior:\n",
    "            if prior[key] > max_probability:\n",
    "                max_probability = prior[key]\n",
    "                self.theta = key\n",
    "        \n",
    "    def fit(self, X):\n",
    "        \n",
    "        new_knowledge = {}\n",
    "        heads = sum(X)\n",
    "        tosses = len(X)\n",
    "        \n",
    "        p_B = 0\n",
    "        \n",
    "        for key in self.knowledge:\n",
    "            p_B += key**heads * (1-key)**(tosses-heads) * self.knowledge[key]\n",
    "        \n",
    "        for key in self.knowledge:\n",
    "            p_B_Ai = key**heads * (1-key)**(tosses-heads)\n",
    "            p_Ai = self.knowledge[key]\n",
    "            new_knowledge[key] = p_Ai * p_B_Ai / p_B\n",
    "        \n",
    "        self.knowledge = new_knowledge\n",
    "        \n",
    "        \n",
    "        max_probability = 0\n",
    "        for key in self.knowledge:\n",
    "            if self.knowledge[key] > max_probability:\n",
    "                max_probability = self.knowledge[key]\n",
    "                self.theta = key\n",
    "\n",
    "    def toss(self):\n",
    "        return flip_coin(self.theta, 1)[0]\n",
    "\n",
    "\n",
    "    \n",
    "model = CoinMAP({0.5: 0.8, 0.6: 0.2})\n",
    "model.fit(np.array([1,0,1,1,1,0,0,1,1,1]))\n",
    "print (\"model.knowledge powinno wyjść {0.5: 0.686, 0.6: 0.314}\")\n",
    "print (model.knowledge)\n",
    "print (\"Powinno wyjść 0.5:\", model.theta)\n",
    "print (\"Powinno wyjść 1:\", sum(model.knowledge.values()))\n",
    "\n",
    "model = CoinMAP({0.5: 0.5, 0.6: 0.2, 0.8: 0.3})\n",
    "model.fit(np.array([1,0,1,1,1,0,0,1,1,1]))\n",
    "print (\"model.knowledge powinno wyjść {0.5: 0.362, 0.6: 0.265, 0.8: 0.373}\")\n",
    "print (model.knowledge)\n",
    "print (\"Powinno wyjść 0.8:\", model.theta)\n",
    "print (\"Powinno wyjść 1:\", sum(model.knowledge.values()))"
   ]
  },
  {
   "cell_type": "markdown",
   "metadata": {},
   "source": [
    "## Ćwiczenie 5 (2 pkt)\n",
    "\n",
    "Napisać klasę CoinBest, która działa jak CoinMAP z tą różnicą, że self.theta jest obliczane powyższym wzorem, a nie wybierane spośród wartości self.knowledge."
   ]
  },
  {
   "cell_type": "code",
   "execution_count": 5,
   "metadata": {
    "collapsed": false
   },
   "outputs": [
    {
     "name": "stdout",
     "output_type": "stream",
     "text": [
      "model.knowledge powinno wyjść {0.5: 0.686, 0.6: 0.314}\n",
      "{0.5: 0.68556676315468579, 0.6: 0.31443323684531421}\n",
      "Powinno wyjść około 0.53: 0.531443323685\n",
      "Powinno wyjść 1: 1.0\n",
      "model.knowledge powinno wyjść {0.5: 0.362, 0.6: 0.265, 0.8: 0.373}\n",
      "{0.5: 0.36171237227008995, 0.6: 0.26543735345984282, 0.8: 0.37285027427006717}\n",
      "Powinno wyjść około 0.64: 0.638398817627\n",
      "Powinno wyjść 1: 1.0\n"
     ]
    }
   ],
   "source": [
    "class CoinBest(object):\n",
    "\n",
    "    def __init__(self, prior):\n",
    "        self.knowledge = prior\n",
    "        self.theta = 0\n",
    "        \n",
    "        self.theta = 0\n",
    "        for key in self.knowledge:\n",
    "            self.theta += key * self.knowledge[key]\n",
    "        \n",
    "    def fit(self, X):\n",
    "        \n",
    "        new_knowledge = {}\n",
    "        heads = sum(X)\n",
    "        tosses = len(X)\n",
    "        \n",
    "        p_B = 0\n",
    "        \n",
    "        for key in self.knowledge:\n",
    "            p_B += key**heads * (1-key)**(tosses-heads) * self.knowledge[key]\n",
    "        \n",
    "        for key in self.knowledge:\n",
    "            p_B_Ai = key**heads * (1-key)**(tosses-heads)\n",
    "            p_Ai = self.knowledge[key]\n",
    "            new_knowledge[key] = p_Ai * p_B_Ai / p_B\n",
    "        \n",
    "        self.knowledge = new_knowledge\n",
    "        \n",
    "        \n",
    "        self.theta = 0\n",
    "        for key in self.knowledge:\n",
    "            self.theta += key * self.knowledge[key]\n",
    "\n",
    "    def toss(self):\n",
    "        return flip_coin(self.theta, 1)[0]\n",
    "\n",
    "model = CoinBest({0.5: 0.8, 0.6: 0.2})\n",
    "model.fit(np.array([1,0,1,1,1,0,0,1,1,1]))\n",
    "print (\"model.knowledge powinno wyjść {0.5: 0.686, 0.6: 0.314}\")\n",
    "print (model.knowledge)\n",
    "print (\"Powinno wyjść około 0.53:\", model.theta)\n",
    "print (\"Powinno wyjść 1:\", sum(model.knowledge.values()))\n",
    "\n",
    "model = CoinBest({0.5: 0.5, 0.6: 0.2, 0.8: 0.3})\n",
    "model.fit(np.array([1,0,1,1,1,0,0,1,1,1]))\n",
    "print (\"model.knowledge powinno wyjść {0.5: 0.362, 0.6: 0.265, 0.8: 0.373}\")\n",
    "print (model.knowledge)\n",
    "print (\"Powinno wyjść około 0.64:\", model.theta)\n",
    "print (\"Powinno wyjść 1:\", sum(model.knowledge.values()))"
   ]
  },
  {
   "cell_type": "markdown",
   "metadata": {},
   "source": [
    "## Ćwiczenie 6 (1 pkt)\n",
    "\n",
    "Zasymulować metodą Monte Carlo przebieg rozgrywki dla gracza, który:\n",
    "- nie zmienia bramki,\n",
    "- zawsze zmienia bramkę,\n",
    "\n",
    "w przypadku:\n",
    "- zwykłym,\n",
    "- z piorunem, a jeśli trafi w nagrodę to:\n",
    "\t- powtórka,\n",
    "\t- przegrana.\n",
    "\n",
    "Wypisać średnią wygraną."
   ]
  },
  {
   "cell_type": "code",
   "execution_count": 6,
   "metadata": {
    "collapsed": false
   },
   "outputs": [
    {
     "name": "stdout",
     "output_type": "stream",
     "text": [
      "Procent wygranych w standardowym przypadku bez zmiany bramki: 33.36%\n",
      "Procent wygranych w przypadku pioruna z powtórką bez zmiany bramki: 50.15%\n",
      "Procent wygranych w przypadku pioruna z przegraną bez zmiany bramki: 33.54%\n",
      "Procent wygranych w standardowym przypadku ze zmianą bramki: 66.56%\n",
      "Procent wygranych w przypadku pioruna z powtórką ze zmianą bramki: 50.03%\n",
      "Procent wygranych w przypadku pioruna z przegraną ze zmianą bramki: 33.04%\n"
     ]
    }
   ],
   "source": [
    "# Bez straty ogólności nagroda może być zawsze w bramce nr 1. Gracz wybiera losowo.\n",
    "# Zdaję sobię sprawę że część operacji jest wykonywana niepotrzebnie. \n",
    "# Wykonuję je jednak dla zasady, przyjmując, że apriori nie mam pojęcia co ma znaczenie, a co nie.\n",
    "liczba_gier = 100000\n",
    "\n",
    "####Brak zmiany bramki:\n",
    "##Zwykły przypadek:\n",
    "wygrane = 0\n",
    "for i in range (liczba_gier):\n",
    "    wybor = np.argmax(np.random.multinomial(1, [1/3,1/3,1/3]))\n",
    "    if wybor == 0:\n",
    "        wygrane += 1\n",
    "print(\"Procent wygranych w standardowym przypadku bez zmiany bramki: {0:.2f}%\".format(100*wygrane/liczba_gier))\n",
    "\n",
    "##Piorun z powtórką całej gry:\n",
    "wygrane = 0\n",
    "for i in range (liczba_gier):\n",
    "    \n",
    "    wybor = np.argmax(np.random.multinomial(1, [1/3,1/3,1/3]))\n",
    "    prawd_pioruna = [1/2,1/2,1/2]\n",
    "    prawd_pioruna[wybor] = 0\n",
    "    wybor_pioruna = np.argmax(np.random.multinomial(1, prawd_pioruna))\n",
    "    \n",
    "    while (wybor_pioruna ==0):\n",
    "        wybor = np.argmax(np.random.multinomial(1, [1/3,1/3,1/3]))\n",
    "        prawd_pioruna = [1/2,1/2,1/2]\n",
    "        prawd_pioruna[wybor] = 0\n",
    "        wybor_pioruna = np.argmax(np.random.multinomial(1, prawd_pioruna))\n",
    "    \n",
    "    if wybor == 0:\n",
    "        wygrane += 1\n",
    "print(\"Procent wygranych w przypadku pioruna z powtórką bez zmiany bramki: {0:.2f}%\".format(100*wygrane/liczba_gier))\n",
    "\n",
    "\n",
    "\n",
    "##Piorun z przegraną:\n",
    "wygrane = 0\n",
    "for i in range (liczba_gier):\n",
    "    \n",
    "    wybor = np.argmax(np.random.multinomial(1, [1/3,1/3,1/3]))\n",
    "    prawd_pioruna = [1/2,1/2,1/2]\n",
    "    prawd_pioruna[wybor] = 0\n",
    "    wybor_pioruna = np.argmax(np.random.multinomial(1, prawd_pioruna))\n",
    "    \n",
    "    if wybor == 0:\n",
    "        wygrane += 1\n",
    "print(\"Procent wygranych w przypadku pioruna z przegraną bez zmiany bramki: {0:.2f}%\".format(100*wygrane/liczba_gier))  \n",
    "\n",
    "\n",
    "####Zmiana bramki:\n",
    "##Zwykły przypadek:\n",
    "wygrane = 0\n",
    "for i in range (liczba_gier):\n",
    "    wybor = np.argmax(np.random.multinomial(1, [1/3,1/3,1/3]))\n",
    "    if wybor != 0:\n",
    "        wygrane += 1\n",
    "print(\"Procent wygranych w standardowym przypadku ze zmianą bramki: {0:.2f}%\".format(100*wygrane/liczba_gier))\n",
    "\n",
    "##Piorun z powtórką całej gry:\n",
    "wygrane = 0\n",
    "for i in range (liczba_gier):\n",
    "    \n",
    "    wybor = np.argmax(np.random.multinomial(1, [1/3,1/3,1/3]))\n",
    "    prawd_pioruna = [1/2,1/2,1/2]\n",
    "    prawd_pioruna[wybor] = 0\n",
    "    wybor_pioruna = np.argmax(np.random.multinomial(1, prawd_pioruna))\n",
    "    \n",
    "    while (wybor_pioruna ==0):\n",
    "        wybor = np.argmax(np.random.multinomial(1, [1/3,1/3,1/3]))\n",
    "        prawd_pioruna = [1/2,1/2,1/2]\n",
    "        prawd_pioruna[wybor] = 0\n",
    "        wybor_pioruna = np.argmax(np.random.multinomial(1, prawd_pioruna))\n",
    "    \n",
    "    if wybor != 0:\n",
    "        wygrane += 1\n",
    "print(\"Procent wygranych w przypadku pioruna z powtórką ze zmianą bramki: {0:.2f}%\".format(100*wygrane/liczba_gier))\n",
    "\n",
    "\n",
    "\n",
    "##Piorun z przegraną:\n",
    "wygrane = 0\n",
    "for i in range (liczba_gier):\n",
    "    \n",
    "    wybor = np.argmax(np.random.multinomial(1, [1/3,1/3,1/3]))\n",
    "    prawd_pioruna = [1/2,1/2,1/2]\n",
    "    prawd_pioruna[wybor] = 0\n",
    "    wybor_pioruna = np.argmax(np.random.multinomial(1, prawd_pioruna))\n",
    "    \n",
    "    if wybor != 0 and wybor_pioruna!=0:\n",
    "        wygrane += 1\n",
    "print(\"Procent wygranych w przypadku pioruna z przegraną ze zmianą bramki: {0:.2f}%\".format(100*wygrane/liczba_gier))  "
   ]
  },
  {
   "cell_type": "markdown",
   "metadata": {},
   "source": [
    "## Ćwiczenie 7 (1 pkt)\n",
    "\n",
    "Losujemy $k=100$ razy liczbę od $1$ do $m=200$ z rozkładem jednostajnym. Ile średnio różnych liczb wylosujemy?\n",
    "Rozwiązać metodą Monte Carlo.\n",
    "\n",
    "https://math.dartmouth.edu/archive/m19w03/public_html/Section6-5.pdf - czy wynik zgadza się z tw. 6.14?\n"
   ]
  },
  {
   "cell_type": "code",
   "execution_count": 7,
   "metadata": {
    "collapsed": false
   },
   "outputs": [
    {
     "name": "stdout",
     "output_type": "stream",
     "text": [
      "78.8264 =?= 78.84591270185442\n"
     ]
    }
   ],
   "source": [
    "def f(k, m, nb_simulations):\n",
    "    avg_nb_integers = 0\n",
    "    for i in range(nb_simulations):\n",
    "        result = np.random.multinomial(k, np.ones(m)/m)\n",
    "        avg_nb_integers += m - np.count_nonzero(result == 0)\n",
    "    avg_nb_integers = avg_nb_integers / nb_simulations\n",
    "    return avg_nb_integers\n",
    "\n",
    "k = 100\n",
    "m = 200\n",
    "print (\"{0} =?= {1}\".format(f(k, m, nb_simulations=10000), m - (m * (1 - 1/float(m))**k)))"
   ]
  }
 ],
 "metadata": {
  "anaconda-cloud": {},
  "kernelspec": {
   "display_name": "Python [conda root]",
   "language": "python",
   "name": "conda-root-py"
  },
  "language_info": {
   "codemirror_mode": {
    "name": "ipython",
    "version": 3
   },
   "file_extension": ".py",
   "mimetype": "text/x-python",
   "name": "python",
   "nbconvert_exporter": "python",
   "pygments_lexer": "ipython3",
   "version": "3.5.2"
  },
  "toc": {
   "toc_cell": false,
   "toc_number_sections": true,
   "toc_threshold": 6,
   "toc_window_display": false
  }
 },
 "nbformat": 4,
 "nbformat_minor": 2
}
